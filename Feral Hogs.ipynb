{
 "cells": [
  {
   "cell_type": "markdown",
   "metadata": {},
   "source": [
    "# Purpose - Feral Hogs\n",
    "The purpose of this code is to write the nested conditional statements in a popular tweet as a function. The tweet is as follows: \"Legit question for rural Americans - How do I kill the 30-50 feral hogs that run into my yard within 3-5 minutes while my small kids play?\"\n",
    "\n",
    "We are assuming that the farmer is 200 yards away from the area of action and is using a generic AR-15 to deal with the boars."
   ]
  },
  {
   "cell_type": "markdown",
   "metadata": {},
   "source": [
    "## Scene Variables"
   ]
  },
  {
   "cell_type": "code",
   "execution_count": 1,
   "metadata": {},
   "outputs": [],
   "source": [
    "import random\n",
    "number_of_hogs = random.randint(30, 51)\n",
    "number_of_seconds_children_are_playing = random.randint(180, 301)\n",
    "number_of_minutes = number_of_seconds_children_are_playing/60\n",
    "kills_per_minute_needed = (number_of_hogs/number_of_seconds_children_are_playing) * 60\n",
    "farmer_distance_from_hogs = 200 #yards"
   ]
  },
  {
   "cell_type": "markdown",
   "metadata": {},
   "source": [
    "## Gun Variables\n",
    "\n",
    "A \"basic\" AR15 will have 1.5MOA (MOA = a Minute of Angle), which means that a bullet may deviate from the sight by 1.5\" every 100 yards."
   ]
  },
  {
   "cell_type": "code",
   "execution_count": 2,
   "metadata": {},
   "outputs": [],
   "source": [
    "ar15_shots_per_min = 50\n",
    "shots_available = ar15_shots_per_min * number_of_minutes\n",
    "MOA = 3 #inches"
   ]
  },
  {
   "cell_type": "markdown",
   "metadata": {},
   "source": [
    "## Hog Variables\n",
    "The feral hog that will be used in this simulation will be the American Wild Hog (*Sus Scrofa*). More information on the animals can be found [here](https://articles.extension.org/pages/63669/physical-characteristics-of-feral-hogs). \n",
    "For our puproses, we are going to assume that the 1/3 of the hog's body (broadside; from neck to mid section) is our one-bullet kill zone. According to [this website] https://www.hogmanoutdoors.com/blog/clean-kill-shoot-hog, headshots seldom take down the boar due to their tiny brain. We'll take in to account that a brain shot will kill the animal, so if the animal is shot in this zone, we'll say there is a 20% chance of it dying with one bullet."
   ]
  },
  {
   "cell_type": "code",
   "execution_count": 3,
   "metadata": {},
   "outputs": [],
   "source": [
    "hog_avg_height = 3 #feet\n",
    "hog_avg_length = 6 #feet"
   ]
  },
  {
   "cell_type": "markdown",
   "metadata": {},
   "source": [
    "# Global Functions"
   ]
  },
  {
   "cell_type": "code",
   "execution_count": 4,
   "metadata": {},
   "outputs": [],
   "source": [
    "def shoot():\n",
    "    zone = \"\"\n",
    "    num = random.randint(1, 4)\n",
    "    if num == 1:\n",
    "        zone = \"killzone1\"\n",
    "    if num == 2:\n",
    "        zone = \"killzone2\"\n",
    "    if num == 3:\n",
    "        zone = \"killzone3\"\n",
    "    return zone"
   ]
  },
  {
   "cell_type": "code",
   "execution_count": 5,
   "metadata": {},
   "outputs": [
    {
     "name": "stdout",
     "output_type": "stream",
     "text": [
      "There are currently 31 feral hogs charging towards your small children right now.\n"
     ]
    }
   ],
   "source": [
    "print(\"There are currently \" + str(number_of_hogs) + \" feral hogs charging towards your small children right now.\")"
   ]
  },
  {
   "cell_type": "code",
   "execution_count": 6,
   "metadata": {},
   "outputs": [
    {
     "name": "stdout",
     "output_type": "stream",
     "text": [
      "You have 213 seconds (3.55 minutes) until your children parish.\n"
     ]
    }
   ],
   "source": [
    "print(\"You have \" + str(number_of_seconds_children_are_playing) + \" seconds (\" + str(number_of_minutes) + \" minutes) until your children parish.\")"
   ]
  },
  {
   "cell_type": "code",
   "execution_count": 7,
   "metadata": {
    "scrolled": true
   },
   "outputs": [
    {
     "name": "stdout",
     "output_type": "stream",
     "text": [
      "You will need to slaughter 8.732394366197182 feral hogs per minute to ensure your childrens' survival.\n"
     ]
    }
   ],
   "source": [
    "print(\"You will need to slaughter \" + str(kills_per_minute_needed) + \" feral hogs per minute to ensure your childrens' survival.\")"
   ]
  },
  {
   "cell_type": "code",
   "execution_count": 8,
   "metadata": {},
   "outputs": [
    {
     "name": "stdout",
     "output_type": "stream",
     "text": [
      "You will be able to shoot up to 177.5 times before time runs out and your children are trampled.\n"
     ]
    }
   ],
   "source": [
    "print(\"You will be able to shoot up to \" + str(shots_available) + \" times before time runs out and your children are trampled.\")"
   ]
  },
  {
   "cell_type": "code",
   "execution_count": 9,
   "metadata": {},
   "outputs": [],
   "source": [
    "def pig_deaths(shots_available, number_of_hogs):\n",
    "    dead_hogs = 0\n",
    "    injured_hogs = 0\n",
    "    bullets = shots_available\n",
    "    zone = shoot()\n",
    "    killzone1 = 1 #neck to belly; instant kill - no further shots required\n",
    "    killzone2 = 2 #head; 20% chance of killing the animal - 80% chance another shot is required\n",
    "    killzone3 = 3 #butt; will not kill the animal and another shot is required\n",
    "    while bullets > 0:\n",
    "        shoot() \n",
    "        bullets -= 1\n",
    "        if zone == \"killzone1\":\n",
    "            dead_hogs += 1\n",
    "        elif zone == \"killzone3\":\n",
    "            injured_hogs += 1\n",
    "        elif zone == \"killzone2\":\n",
    "            num == random.randint(1, 6)\n",
    "            if num == 5:\n",
    "                dead_hogs += 1\n",
    "            else:\n",
    "                continue\n",
    "        elif bullets == 0:\n",
    "            break\n",
    "        else:\n",
    "            continue\n",
    "    print(dead_hogs)\n",
    "    print(injured_hogs)\n",
    "    print(bullets)"
   ]
  },
  {
   "cell_type": "code",
   "execution_count": 10,
   "metadata": {},
   "outputs": [
    {
     "name": "stdout",
     "output_type": "stream",
     "text": [
      "0\n",
      "178\n",
      "-0.5\n",
      "None\n"
     ]
    }
   ],
   "source": [
    "print(pig_deaths(shots_available, number_of_hogs))"
   ]
  },
  {
   "cell_type": "code",
   "execution_count": null,
   "metadata": {},
   "outputs": [],
   "source": []
  }
 ],
 "metadata": {
  "kernelspec": {
   "display_name": "Python 3",
   "language": "python",
   "name": "python3"
  },
  "language_info": {
   "codemirror_mode": {
    "name": "ipython",
    "version": 3
   },
   "file_extension": ".py",
   "mimetype": "text/x-python",
   "name": "python",
   "nbconvert_exporter": "python",
   "pygments_lexer": "ipython3",
   "version": "3.5.3"
  }
 },
 "nbformat": 4,
 "nbformat_minor": 2
}
