{
 "cells": [
  {
   "cell_type": "code",
   "execution_count": 1,
   "metadata": {
    "scrolled": true
   },
   "outputs": [
    {
     "name": "stdout",
     "output_type": "stream",
     "text": [
      "There are currently 40 feral hogs charging towards your small children right now.\n",
      "You have 212 seconds (3.533333333333333 minutes) until your children parish.\n",
      "You will need to slaughter 11.320754716981133 feral hogs per minute to ensure your childrens' survival.\n",
      "You will be able to shoot up to 176 times before time runs out and your children are trampled.\n"
     ]
    }
   ],
   "source": [
    "import random\n",
    "\n",
    "number_of_hogs = random.randint(30, 51) #generate a random number of hogs to attack\n",
    "number_of_seconds_children_are_playing = random.randint(180, 301) #how many seconds you have to take out the hogs\n",
    "number_of_minutes = number_of_seconds_children_are_playing/60 #how many minutes you have to take out the hogs\n",
    "kills_per_minute_needed = (number_of_hogs/number_of_seconds_children_are_playing) * 60 #how many hogs need to be taken out a minute for there to be 0 hogs at the end of your children's play time\n",
    "\n",
    "farmer_distance_from_hogs = 200 #yards\n",
    "ar15_shots_per_min = 50 #how many bullets an AR15 can shoot pet minute\n",
    "\n",
    "shots_available = int(ar15_shots_per_min * number_of_minutes) #how many shots an AR15 can shoot in the alotted time\n",
    "MOA = 3 #inches\n",
    "bullets_used = 0 #how many bullets have been shot since the beginning of the slaughter\n",
    "\n",
    "hog_avg_height = 3 #feet #not used yet\n",
    "hog_avg_length = 6 #feet# not used yet\n",
    "\n",
    "def shot(): #a function to generate a random number (which correlates to where on the body the pig is shot)\n",
    "    num = random.randint(1, 4)\n",
    "    return num\n",
    "\n",
    "def rand4(): #a function that generates a random numer (mainly used to see if pig head shot is a kill shot)\n",
    "    num = random.randint(1, 4)\n",
    "    return num\n",
    "\n",
    "s = shot() #stored variable for the shot function\n",
    "r = rand4() #stored variable for the rand4 function\n",
    " \n",
    "print(\"There are currently \" + str(number_of_hogs) + \" feral hogs charging towards your small children right now.\")\n",
    "print(\"You have \" + str(number_of_seconds_children_are_playing) + \" seconds (\" + str(number_of_minutes) + \" minutes) until your children parish.\")\n",
    "print(\"You will need to slaughter \" + str(kills_per_minute_needed) + \" feral hogs per minute to ensure your childrens' survival.\")\n",
    "print(\"You will be able to shoot up to \" + str(shots_available) + \" times before time runs out and your children are trampled.\")\n"
   ]
  },
  {
   "cell_type": "code",
   "execution_count": 2,
   "metadata": {},
   "outputs": [],
   "source": [
    "def shoot(random_num):\n",
    "    #1 #neck to belly; instant kill - no further shots required\n",
    "    #2 #head; 20% chance of killing the animal - 80% chance another shot is required\n",
    "    #3 #butt; will not kill the animal and another shot is required\n",
    "    #4 #miss\n",
    "    dead_hogs = 0\n",
    "    injured_hogs = 0\n",
    "    bullets_used = 0\n",
    "    if random_num == 1:\n",
    "        dead_hogs += 1\n",
    "        bullets_used += 1\n",
    "    elif random_num == 2: #current code does not register a kill for this; probably need to put the randint in the code rather than have it as a global code\n",
    "        bullets_used += 1\n",
    "        if r == 1:\n",
    "            dead_hogs += 1\n",
    "        elif r == 2:\n",
    "            injured_hogs += 1\n",
    "        elif r == 3:\n",
    "            injured_hogs += 1\n",
    "        elif r == 4:\n",
    "            injured_hogs += 1\n",
    "    elif random_num == 3:\n",
    "        injured_hogs += 1\n",
    "        bullets_used += 1\n",
    "    elif random_num == 4:\n",
    "        bullets_used += 1\n",
    "\n",
    "    return (dead_hogs, injured_hogs, bullets_used)\n",
    "    "
   ]
  },
  {
   "cell_type": "code",
   "execution_count": 3,
   "metadata": {},
   "outputs": [],
   "source": [
    "random_num_lst = []\n",
    "for number in range(1, shots_available + 1):\n",
    "    random_num_lst.append(random.randint(1, 4))"
   ]
  },
  {
   "cell_type": "code",
   "execution_count": 4,
   "metadata": {},
   "outputs": [
    {
     "name": "stdout",
     "output_type": "stream",
     "text": [
      "[2, 1, 1, 3, 4, 1, 4, 1, 3, 2, 4, 3, 3, 3, 4, 2, 4, 4, 3, 4, 1, 4, 1, 3, 3, 2, 3, 2, 2, 2, 3, 3, 4, 1, 3, 3, 2, 3, 1, 2, 1, 1, 1, 4, 2, 1, 2, 4, 4, 2, 1, 2, 4, 3, 2, 1, 3, 1, 3, 3, 1, 1, 3, 2, 2, 2, 1, 4, 1, 1, 3, 4, 2, 4, 4, 4, 2, 3, 2, 1, 4, 2, 4, 3, 3, 4, 4, 4, 2, 4, 4, 4, 4, 4, 1, 2, 2, 2, 3, 1, 1, 1, 1, 1, 1, 1, 2, 4, 1, 4, 1, 3, 4, 4, 3, 3, 1, 4, 4, 4, 3, 1, 2, 1, 4, 1, 2, 2, 2, 4, 4, 4, 1, 2, 3, 1, 3, 3, 2, 1, 2, 1, 4, 4, 2, 3, 2, 1, 3, 4, 4, 2, 2, 1, 1, 1, 4, 2, 2, 4, 1, 2, 2, 4, 1, 3, 4, 4, 1, 2, 3, 1, 1, 4, 1, 3]\n"
     ]
    }
   ],
   "source": [
    "print(random_num_lst)"
   ]
  },
  {
   "cell_type": "code",
   "execution_count": 5,
   "metadata": {},
   "outputs": [],
   "source": [
    "hit_list = []\n",
    "for random_num in random_num_lst:\n",
    "    hit_list.append(shoot(random_num))\n",
    "    "
   ]
  },
  {
   "cell_type": "code",
   "execution_count": 6,
   "metadata": {
    "scrolled": true
   },
   "outputs": [
    {
     "name": "stdout",
     "output_type": "stream",
     "text": [
      "[(0, 1, 1), (1, 0, 1), (1, 0, 1), (0, 1, 1), (0, 0, 1), (1, 0, 1), (0, 0, 1), (1, 0, 1), (0, 1, 1), (0, 1, 1), (0, 0, 1), (0, 1, 1), (0, 1, 1), (0, 1, 1), (0, 0, 1), (0, 1, 1), (0, 0, 1), (0, 0, 1), (0, 1, 1), (0, 0, 1), (1, 0, 1), (0, 0, 1), (1, 0, 1), (0, 1, 1), (0, 1, 1), (0, 1, 1), (0, 1, 1), (0, 1, 1), (0, 1, 1), (0, 1, 1), (0, 1, 1), (0, 1, 1), (0, 0, 1), (1, 0, 1), (0, 1, 1), (0, 1, 1), (0, 1, 1), (0, 1, 1), (1, 0, 1), (0, 1, 1), (1, 0, 1), (1, 0, 1), (1, 0, 1), (0, 0, 1), (0, 1, 1), (1, 0, 1), (0, 1, 1), (0, 0, 1), (0, 0, 1), (0, 1, 1), (1, 0, 1), (0, 1, 1), (0, 0, 1), (0, 1, 1), (0, 1, 1), (1, 0, 1), (0, 1, 1), (1, 0, 1), (0, 1, 1), (0, 1, 1), (1, 0, 1), (1, 0, 1), (0, 1, 1), (0, 1, 1), (0, 1, 1), (0, 1, 1), (1, 0, 1), (0, 0, 1), (1, 0, 1), (1, 0, 1), (0, 1, 1), (0, 0, 1), (0, 1, 1), (0, 0, 1), (0, 0, 1), (0, 0, 1), (0, 1, 1), (0, 1, 1), (0, 1, 1), (1, 0, 1), (0, 0, 1), (0, 1, 1), (0, 0, 1), (0, 1, 1), (0, 1, 1), (0, 0, 1), (0, 0, 1), (0, 0, 1), (0, 1, 1), (0, 0, 1), (0, 0, 1), (0, 0, 1), (0, 0, 1), (0, 0, 1), (1, 0, 1), (0, 1, 1), (0, 1, 1), (0, 1, 1), (0, 1, 1), (1, 0, 1), (1, 0, 1), (1, 0, 1), (1, 0, 1), (1, 0, 1), (1, 0, 1), (1, 0, 1), (0, 1, 1), (0, 0, 1), (1, 0, 1), (0, 0, 1), (1, 0, 1), (0, 1, 1), (0, 0, 1), (0, 0, 1), (0, 1, 1), (0, 1, 1), (1, 0, 1), (0, 0, 1), (0, 0, 1), (0, 0, 1), (0, 1, 1), (1, 0, 1), (0, 1, 1), (1, 0, 1), (0, 0, 1), (1, 0, 1), (0, 1, 1), (0, 1, 1), (0, 1, 1), (0, 0, 1), (0, 0, 1), (0, 0, 1), (1, 0, 1), (0, 1, 1), (0, 1, 1), (1, 0, 1), (0, 1, 1), (0, 1, 1), (0, 1, 1), (1, 0, 1), (0, 1, 1), (1, 0, 1), (0, 0, 1), (0, 0, 1), (0, 1, 1), (0, 1, 1), (0, 1, 1), (1, 0, 1), (0, 1, 1), (0, 0, 1), (0, 0, 1), (0, 1, 1), (0, 1, 1), (1, 0, 1), (1, 0, 1), (1, 0, 1), (0, 0, 1), (0, 1, 1), (0, 1, 1), (0, 0, 1), (1, 0, 1), (0, 1, 1), (0, 1, 1), (0, 0, 1), (1, 0, 1), (0, 1, 1), (0, 0, 1), (0, 0, 1), (1, 0, 1), (0, 1, 1), (0, 1, 1), (1, 0, 1), (1, 0, 1), (0, 0, 1), (1, 0, 1), (0, 1, 1)]\n"
     ]
    }
   ],
   "source": [
    "print(hit_list)"
   ]
  },
  {
   "cell_type": "code",
   "execution_count": 7,
   "metadata": {},
   "outputs": [
    {
     "name": "stdout",
     "output_type": "stream",
     "text": [
      "(0, 1, 1)\n",
      "(1, 0, 1)\n",
      "(1, 0, 1)\n",
      "(0, 1, 1)\n",
      "(0, 0, 1)\n",
      "(1, 0, 1)\n",
      "(0, 0, 1)\n",
      "(1, 0, 1)\n",
      "(0, 1, 1)\n",
      "(0, 1, 1)\n",
      "(0, 0, 1)\n",
      "(0, 1, 1)\n",
      "(0, 1, 1)\n",
      "(0, 1, 1)\n",
      "(0, 0, 1)\n",
      "(0, 1, 1)\n",
      "(0, 0, 1)\n",
      "(0, 0, 1)\n",
      "(0, 1, 1)\n",
      "(0, 0, 1)\n",
      "(1, 0, 1)\n",
      "(0, 0, 1)\n",
      "(1, 0, 1)\n",
      "(0, 1, 1)\n",
      "(0, 1, 1)\n",
      "(0, 1, 1)\n",
      "(0, 1, 1)\n",
      "(0, 1, 1)\n",
      "(0, 1, 1)\n",
      "(0, 1, 1)\n",
      "(0, 1, 1)\n",
      "(0, 1, 1)\n",
      "(0, 0, 1)\n",
      "(1, 0, 1)\n",
      "(0, 1, 1)\n",
      "(0, 1, 1)\n",
      "(0, 1, 1)\n",
      "(0, 1, 1)\n",
      "(1, 0, 1)\n",
      "(0, 1, 1)\n",
      "(1, 0, 1)\n",
      "(1, 0, 1)\n",
      "(1, 0, 1)\n",
      "(0, 0, 1)\n",
      "(0, 1, 1)\n",
      "(1, 0, 1)\n",
      "(0, 1, 1)\n",
      "(0, 0, 1)\n",
      "(0, 0, 1)\n",
      "(0, 1, 1)\n",
      "(1, 0, 1)\n",
      "(0, 1, 1)\n",
      "(0, 0, 1)\n",
      "(0, 1, 1)\n",
      "(0, 1, 1)\n",
      "(1, 0, 1)\n",
      "(0, 1, 1)\n",
      "(1, 0, 1)\n",
      "(0, 1, 1)\n",
      "(0, 1, 1)\n",
      "(1, 0, 1)\n",
      "(1, 0, 1)\n",
      "(0, 1, 1)\n",
      "(0, 1, 1)\n",
      "(0, 1, 1)\n",
      "(0, 1, 1)\n",
      "(1, 0, 1)\n",
      "(0, 0, 1)\n",
      "(1, 0, 1)\n",
      "(1, 0, 1)\n",
      "(0, 1, 1)\n",
      "(0, 0, 1)\n",
      "(0, 1, 1)\n",
      "(0, 0, 1)\n",
      "(0, 0, 1)\n",
      "(0, 0, 1)\n",
      "(0, 1, 1)\n",
      "(0, 1, 1)\n",
      "(0, 1, 1)\n",
      "(1, 0, 1)\n",
      "(0, 0, 1)\n",
      "(0, 1, 1)\n",
      "(0, 0, 1)\n",
      "(0, 1, 1)\n",
      "(0, 1, 1)\n",
      "(0, 0, 1)\n",
      "(0, 0, 1)\n",
      "(0, 0, 1)\n",
      "(0, 1, 1)\n",
      "(0, 0, 1)\n",
      "(0, 0, 1)\n",
      "(0, 0, 1)\n",
      "(0, 0, 1)\n",
      "(0, 0, 1)\n",
      "(1, 0, 1)\n",
      "(0, 1, 1)\n",
      "(0, 1, 1)\n",
      "(0, 1, 1)\n",
      "(0, 1, 1)\n",
      "(1, 0, 1)\n",
      "(1, 0, 1)\n",
      "(1, 0, 1)\n",
      "(1, 0, 1)\n",
      "(1, 0, 1)\n",
      "(1, 0, 1)\n",
      "(1, 0, 1)\n",
      "(0, 1, 1)\n",
      "(0, 0, 1)\n",
      "(1, 0, 1)\n",
      "(0, 0, 1)\n",
      "(1, 0, 1)\n",
      "(0, 1, 1)\n",
      "(0, 0, 1)\n",
      "(0, 0, 1)\n",
      "(0, 1, 1)\n",
      "(0, 1, 1)\n",
      "(1, 0, 1)\n",
      "(0, 0, 1)\n",
      "(0, 0, 1)\n",
      "(0, 0, 1)\n",
      "(0, 1, 1)\n",
      "(1, 0, 1)\n",
      "(0, 1, 1)\n",
      "(1, 0, 1)\n",
      "(0, 0, 1)\n",
      "(1, 0, 1)\n",
      "(0, 1, 1)\n",
      "(0, 1, 1)\n",
      "(0, 1, 1)\n",
      "(0, 0, 1)\n",
      "(0, 0, 1)\n",
      "(0, 0, 1)\n",
      "(1, 0, 1)\n",
      "(0, 1, 1)\n",
      "(0, 1, 1)\n",
      "(1, 0, 1)\n",
      "(0, 1, 1)\n",
      "(0, 1, 1)\n",
      "(0, 1, 1)\n",
      "(1, 0, 1)\n",
      "(0, 1, 1)\n",
      "(1, 0, 1)\n",
      "(0, 0, 1)\n",
      "(0, 0, 1)\n",
      "(0, 1, 1)\n",
      "(0, 1, 1)\n",
      "(0, 1, 1)\n",
      "(1, 0, 1)\n",
      "(0, 1, 1)\n",
      "(0, 0, 1)\n",
      "(0, 0, 1)\n",
      "(0, 1, 1)\n",
      "(0, 1, 1)\n",
      "(1, 0, 1)\n",
      "(1, 0, 1)\n",
      "(1, 0, 1)\n",
      "(0, 0, 1)\n",
      "(0, 1, 1)\n",
      "(0, 1, 1)\n",
      "(0, 0, 1)\n",
      "(1, 0, 1)\n",
      "(0, 1, 1)\n",
      "(0, 1, 1)\n",
      "(0, 0, 1)\n",
      "(1, 0, 1)\n",
      "(0, 1, 1)\n",
      "(0, 0, 1)\n",
      "(0, 0, 1)\n",
      "(1, 0, 1)\n",
      "(0, 1, 1)\n",
      "(0, 1, 1)\n",
      "(1, 0, 1)\n",
      "(1, 0, 1)\n",
      "(0, 0, 1)\n",
      "(1, 0, 1)\n",
      "(0, 1, 1)\n"
     ]
    }
   ],
   "source": [
    "for element in hit_list:\n",
    "    print(element)"
   ]
  },
  {
   "cell_type": "code",
   "execution_count": 8,
   "metadata": {},
   "outputs": [],
   "source": [
    "\n",
    "total_dead_hogs = 0\n",
    "total_injured_hogs = 0\n",
    "total_bullets_used = 0\n",
    "for item in hit_list:\n",
    "        if total_dead_hogs == number_of_hogs or item[0] == hit_list[-1]:\n",
    "            break\n",
    "        elif item == (1, 0, 1):\n",
    "            total_dead_hogs += 1\n",
    "            total_bullets_used += 1\n",
    "        elif item == (0, 1, 1):\n",
    "            total_injured_hogs += 1\n",
    "            total_bullets_used += 1\n",
    "        elif item == (0, 0, 1):\n",
    "            total_bullets_used += 1"
   ]
  },
  {
   "cell_type": "code",
   "execution_count": 9,
   "metadata": {},
   "outputs": [
    {
     "name": "stdout",
     "output_type": "stream",
     "text": [
      "40 67 148\n"
     ]
    }
   ],
   "source": [
    "print (total_dead_hogs, total_injured_hogs, total_bullets_used)"
   ]
  },
  {
   "cell_type": "code",
   "execution_count": null,
   "metadata": {},
   "outputs": [],
   "source": []
  }
 ],
 "metadata": {
  "kernelspec": {
   "display_name": "Python 3",
   "language": "python",
   "name": "python3"
  },
  "language_info": {
   "codemirror_mode": {
    "name": "ipython",
    "version": 3
   },
   "file_extension": ".py",
   "mimetype": "text/x-python",
   "name": "python",
   "nbconvert_exporter": "python",
   "pygments_lexer": "ipython3",
   "version": "3.5.3"
  }
 },
 "nbformat": 4,
 "nbformat_minor": 2
}
